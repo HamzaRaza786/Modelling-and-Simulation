{
 "cells": [
  {
   "cell_type": "code",
   "execution_count": 2,
   "metadata": {},
   "outputs": [],
   "source": [
    "import numpy as np\n",
    "import matplotlib.pyplot as plt\n",
    "import pandas as pd \n",
    "import random"
   ]
  },
  {
   "cell_type": "code",
   "execution_count": 3,
   "metadata": {},
   "outputs": [],
   "source": [
    "def normal_dist(mu,sigma,size = 1000, n=100000):\n",
    "    ST = np.random.normal(mu, sigma, n)\n",
    "    mini = abs(min((ST)))\n",
    "    for i in range(0,n):\n",
    "        ST[i] = ST[i] + mini\n",
    "    count, bins, ignored = plt.hist(ST, 30, density=True)\n",
    "    plt.xlabel('Time')\n",
    "    plt.ylabel('prob')\n",
    "    plt.show()\n",
    "    return list(ST)[0:size]"
   ]
  },
  {
   "cell_type": "code",
   "execution_count": 4,
   "metadata": {},
   "outputs": [],
   "source": [
    "def uniform(mu,size = 1000,n=100000):\n",
    "    Iat = np.random.uniform(0,mu+mu,n)\n",
    "    count, bins, ignored = plt.hist(Iat, 30, facecolor='blue')\n",
    "    print(\"Maximum Count is \",max(count))\n",
    "    plt.xlabel('Time')\n",
    "    plt.ylabel('Count')\n",
    "    plt.axis([0, mu+mu, 0, max(count)]) # x_start, x_end, y_start, y_end\n",
    "    plt.show()\n",
    "    return list(Iat)[0:size]"
   ]
  },
  {
   "cell_type": "code",
   "execution_count": 5,
   "metadata": {},
   "outputs": [
    {
     "name": "stdout",
     "output_type": "stream",
     "text": [
      "Maximum Count is  3423.0\n"
     ]
    },
    {
     "data": {
      "image/png": "[encoded data removed]",
      "text/plain": [
       "<Figure size 432x288 with 1 Axes>"
      ]
     },
     "metadata": {
      "needs_background": "light"
     },
     "output_type": "display_data"
    }
   ],
   "source": [
    "datasetA = pd.DataFrame({'Interval Time': uniform(10) }, columns=['Interval Time'])"
   ]
  },
  {
   "cell_type": "code",
   "execution_count": 6,
   "metadata": {},
   "outputs": [
    {
     "name": "stdout",
     "output_type": "stream",
     "text": [
      "Maximum Count is  3434.0\n"
     ]
    },
    {
     "data": {
      "image/png": "[encoded data removed]",
      "text/plain": [
       "<Figure size 432x288 with 1 Axes>"
      ]
     },
     "metadata": {
      "needs_background": "light"
     },
     "output_type": "display_data"
    }
   ],
   "source": [
    "datasetA[\"Arrival Time\"] = 0.0\n",
    "datasetA[\"Service Time\"] = uniform(240)\n",
    "datasetA[\"Departure Time\"] = 0.0\n",
    "datasetA[\"Lines Filled\"] = 0"
   ]
  },
  {
   "cell_type": "code",
   "execution_count": 7,
   "metadata": {},
   "outputs": [
    {
     "name": "stdout",
     "output_type": "stream",
     "text": [
      "Maximum Count is  3450.0\n"
     ]
    },
    {
     "data": {
      "image/png": "[encoded data removed]",
      "text/plain": [
       "<Figure size 432x288 with 1 Axes>"
      ]
     },
     "metadata": {
      "needs_background": "light"
     },
     "output_type": "display_data"
    },
    {
     "name": "stdout",
     "output_type": "stream",
     "text": [
      "Maximum Count is  3442.0\n"
     ]
    },
    {
     "data": {
      "image/png": "[encoded data removed]",
      "text/plain": [
       "<Figure size 432x288 with 1 Axes>"
      ]
     },
     "metadata": {
      "needs_background": "light"
     },
     "output_type": "display_data"
    }
   ],
   "source": [
    "datasetB = pd.DataFrame({'Interval Time': uniform(12) }, columns=['Interval Time'])\n",
    "datasetB[\"Arrival Time\"] = 0.0\n",
    "datasetB[\"Service Time\"] = uniform(240)\n",
    "datasetB[\"Departure Time\"] = 0.0\n",
    "datasetB[\"Lines Filled\"] = 0"
   ]
  },
  {
   "cell_type": "code",
   "execution_count": 8,
   "metadata": {},
   "outputs": [],
   "source": [
    "def Arrival_Time(si,dataset):\n",
    "    dataset[\"Arrival Time\"] = 0.0\n",
    "    Iat_prev = 0.0\n",
    "    for i in range(0,si):\n",
    "        dataset[\"Arrival Time\"][i]= dataset[\"Inter Time\"][i] + Iat_prev\n",
    "        Iat_prev = dataset[\"Arrival Time\"][i]"
   ]
  },
  {
   "cell_type": "code",
   "execution_count": 9,
   "metadata": {},
   "outputs": [],
   "source": [
    "def DepartureTime(si,dataset):\n",
    "    dataset[\"Departure Time\"] = 0.0\n",
    "    dataset[\"Departure Time\"][0] =  dataset[\"Arrival Time\"][0] + dataset[\"Service Time\"][0] \n",
    "    for i in range(1,si):\n",
    "        dataset[\"Departure Time\"][i]= dataset[\"Arrival Time\"][i] + dataset[\"Service Time\"][i]"
   ]
  },
  {
   "cell_type": "code",
   "execution_count": 10,
   "metadata": {},
   "outputs": [],
   "source": [
    "def LinesFilled(si,n,dataset):\n",
    "    c = n - 1\n",
    "    dataset[\"Lines Filled\"][0] = dataset[\"Departure Time\"][0]\n",
    "    \n",
    "    for i in range(1,si):\n",
    "        line_add = True\n",
    "        col = len(dataset.columns)\n",
    "        at_i = dataset[\"Arrival Time\"][i]\n",
    "        for j in range(4,col):\n",
    "            #print(dataset.iloc[i - 1,j])\n",
    "            if(dataset.iloc[i - 1,j] < at_i and line_add == True):\n",
    "                dataset.iloc[i,j] = dataset[\"Departure Time\"][i]\n",
    "                line_add = False\n",
    "            else:\n",
    "                dataset.iloc[i,j] = dataset.iloc[i-1,j]\n",
    "        if (line_add == True):\n",
    "            dataset[\"Lines Filled\" + str(c)] = 0\n",
    "            dataset[\"Lines Filled\" + str(c)][i] = dataset[\"Departure Time\"][i]\n",
    "            c = c + 1"
   ]
  },
  {
   "cell_type": "code",
   "execution_count": 11,
   "metadata": {},
   "outputs": [],
   "source": [
    "def CustomerDisplay(si = 10):\n",
    "    return dataset.head(si)"
   ]
  },
  {
   "cell_type": "code",
   "execution_count": 68,
   "metadata": {},
   "outputs": [],
   "source": [
    "res_dataset = pd.DataFrame()"
   ]
  },
  {
   "cell_type": "code",
   "execution_count": 69,
   "metadata": {},
   "outputs": [],
   "source": [
    "res_dataset[\"Inter Time\"] = 0.0\n",
    "res_dataset[\"Arrival Time\"] = 0.0\n",
    "res_dataset[\"Service Time\"] = 0.0\n",
    "res_dataset[\"Departure Time\"] = 0.0\n",
    "res_dataset[\"Lines Filled\"] = 0"
   ]
  },
  {
   "cell_type": "code",
   "execution_count": 70,
   "metadata": {},
   "outputs": [],
   "source": [
    "arr = []\n",
    "arr2 = []\n",
    "def Interarrival(siz = 1000):\n",
    "    i = 0\n",
    "    while(sum(arr) < 43200):\n",
    "        n = random.random()\n",
    "        if (n < 0.5):\n",
    "            arr.append(np.random.uniform(0,10+10,1)[0])\n",
    "        else:\n",
    "            arr.append(np.random.uniform(0,12+12,1)[0])\n",
    "        arr2.append(np.random.uniform(0,240+240,1)[0])\n",
    "    return arr,arr2"
   ]
  },
  {
   "cell_type": "code",
   "execution_count": 71,
   "metadata": {},
   "outputs": [],
   "source": [
    "res_dataset[\"Inter Time\"],res_dataset[\"Service Time\"] = Interarrival()"
   ]
  },
  {
   "cell_type": "code",
   "execution_count": 72,
   "metadata": {
    "collapsed": true
   },
   "outputs": [
    {
     "data": {
      "text/html": [
       "<div>\n",
       "<style scoped>\n",
       "    .dataframe tbody tr th:only-of-type {\n",
       "        vertical-align: middle;\n",
       "    }\n",
       "\n",
       "    .dataframe tbody tr th {\n",
       "        vertical-align: top;\n",
       "    }\n",
       "\n",
       "    .dataframe thead th {\n",
       "        text-align: right;\n",
       "    }\n",
       "</style>\n",
       "<table border=\"1\" class=\"dataframe\">\n",
       "  <thead>\n",
       "    <tr style=\"text-align: right;\">\n",
       "      <th></th>\n",
       "      <th>Inter Time</th>\n",
       "      <th>Arrival Time</th>\n",
       "      <th>Service Time</th>\n",
       "      <th>Departure Time</th>\n",
       "      <th>Lines Filled</th>\n",
       "    </tr>\n",
       "  </thead>\n",
       "  <tbody>\n",
       "    <tr>\n",
       "      <td>0</td>\n",
       "      <td>16.069692</td>\n",
       "      <td>NaN</td>\n",
       "      <td>441.394086</td>\n",
       "      <td>NaN</td>\n",
       "      <td>NaN</td>\n",
       "    </tr>\n",
       "    <tr>\n",
       "      <td>1</td>\n",
       "      <td>7.540852</td>\n",
       "      <td>NaN</td>\n",
       "      <td>68.944828</td>\n",
       "      <td>NaN</td>\n",
       "      <td>NaN</td>\n",
       "    </tr>\n",
       "    <tr>\n",
       "      <td>2</td>\n",
       "      <td>13.029143</td>\n",
       "      <td>NaN</td>\n",
       "      <td>196.314925</td>\n",
       "      <td>NaN</td>\n",
       "      <td>NaN</td>\n",
       "    </tr>\n",
       "    <tr>\n",
       "      <td>3</td>\n",
       "      <td>5.478535</td>\n",
       "      <td>NaN</td>\n",
       "      <td>114.090987</td>\n",
       "      <td>NaN</td>\n",
       "      <td>NaN</td>\n",
       "    </tr>\n",
       "    <tr>\n",
       "      <td>4</td>\n",
       "      <td>7.454223</td>\n",
       "      <td>NaN</td>\n",
       "      <td>421.248877</td>\n",
       "      <td>NaN</td>\n",
       "      <td>NaN</td>\n",
       "    </tr>\n",
       "    <tr>\n",
       "      <td>...</td>\n",
       "      <td>...</td>\n",
       "      <td>...</td>\n",
       "      <td>...</td>\n",
       "      <td>...</td>\n",
       "      <td>...</td>\n",
       "    </tr>\n",
       "    <tr>\n",
       "      <td>3903</td>\n",
       "      <td>17.924372</td>\n",
       "      <td>NaN</td>\n",
       "      <td>408.524380</td>\n",
       "      <td>NaN</td>\n",
       "      <td>NaN</td>\n",
       "    </tr>\n",
       "    <tr>\n",
       "      <td>3904</td>\n",
       "      <td>21.112124</td>\n",
       "      <td>NaN</td>\n",
       "      <td>282.392808</td>\n",
       "      <td>NaN</td>\n",
       "      <td>NaN</td>\n",
       "    </tr>\n",
       "    <tr>\n",
       "      <td>3905</td>\n",
       "      <td>23.897535</td>\n",
       "      <td>NaN</td>\n",
       "      <td>132.395213</td>\n",
       "      <td>NaN</td>\n",
       "      <td>NaN</td>\n",
       "    </tr>\n",
       "    <tr>\n",
       "      <td>3906</td>\n",
       "      <td>1.608483</td>\n",
       "      <td>NaN</td>\n",
       "      <td>134.318791</td>\n",
       "      <td>NaN</td>\n",
       "      <td>NaN</td>\n",
       "    </tr>\n",
       "    <tr>\n",
       "      <td>3907</td>\n",
       "      <td>20.117794</td>\n",
       "      <td>NaN</td>\n",
       "      <td>187.018870</td>\n",
       "      <td>NaN</td>\n",
       "      <td>NaN</td>\n",
       "    </tr>\n",
       "  </tbody>\n",
       "</table>\n",
       "<p>3908 rows × 5 columns</p>\n",
       "</div>"
      ],
      "text/plain": [
       "      Inter Time  Arrival Time  Service Time  Departure Time  Lines Filled\n",
       "0      16.069692           NaN    441.394086             NaN           NaN\n",
       "1       7.540852           NaN     68.944828             NaN           NaN\n",
       "2      13.029143           NaN    196.314925             NaN           NaN\n",
       "3       5.478535           NaN    114.090987             NaN           NaN\n",
       "4       7.454223           NaN    421.248877             NaN           NaN\n",
       "...          ...           ...           ...             ...           ...\n",
       "3903   17.924372           NaN    408.524380             NaN           NaN\n",
       "3904   21.112124           NaN    282.392808             NaN           NaN\n",
       "3905   23.897535           NaN    132.395213             NaN           NaN\n",
       "3906    1.608483           NaN    134.318791             NaN           NaN\n",
       "3907   20.117794           NaN    187.018870             NaN           NaN\n",
       "\n",
       "[3908 rows x 5 columns]"
      ]
     },
     "execution_count": 72,
     "metadata": {},
     "output_type": "execute_result"
    }
   ],
   "source": [
    "res_dataset"
   ]
  },
  {
   "cell_type": "code",
   "execution_count": 73,
   "metadata": {},
   "outputs": [],
   "source": [
    "Arrival_Time(len(res_dataset),res_dataset)\n",
    "DepartureTime(len(res_dataset),res_dataset)"
   ]
  },
  {
   "cell_type": "code",
   "execution_count": 54,
   "metadata": {
    "collapsed": true
   },
   "outputs": [
    {
     "name": "stderr",
     "output_type": "stream",
     "text": [
      "C:\\Users\\HP\\Anaconda3\\lib\\site-packages\\ipykernel_launcher.py:4: SettingWithCopyWarning: \n",
      "A value is trying to be set on a copy of a slice from a DataFrame\n",
      "\n",
      "See the caveats in the documentation: http://pandas.pydata.org/pandas-docs/stable/user_guide/indexing.html#returning-a-view-versus-a-copy\n",
      "  after removing the cwd from sys.path.\n"
     ]
    },
    {
     "ename": "TypeError",
     "evalue": "'builtin_function_or_method' object is not subscriptable",
     "output_type": "error",
     "traceback": [
      "\u001b[1;31m---------------------------------------------------------------------------\u001b[0m",
      "\u001b[1;31mTypeError\u001b[0m                                 Traceback (most recent call last)",
      "\u001b[1;32m<ipython-input-54-d9d0165aaaae>\u001b[0m in \u001b[0;36m<module>\u001b[1;34m\u001b[0m\n\u001b[1;32m----> 1\u001b[1;33m \u001b[0mLinesFilled2\u001b[0m\u001b[1;33m(\u001b[0m\u001b[0mlen\u001b[0m\u001b[1;33m(\u001b[0m\u001b[0mres_dataset\u001b[0m\u001b[1;33m)\u001b[0m\u001b[1;33m,\u001b[0m\u001b[1;36m1\u001b[0m\u001b[1;33m,\u001b[0m\u001b[0mres_dataset\u001b[0m\u001b[1;33m)\u001b[0m\u001b[1;33m\u001b[0m\u001b[1;33m\u001b[0m\u001b[0m\n\u001b[0m",
      "\u001b[1;32m<ipython-input-43-e79a3b941f35>\u001b[0m in \u001b[0;36mLinesFilled2\u001b[1;34m(si, n, dataset)\u001b[0m\n\u001b[0;32m     12\u001b[0m             \u001b[1;32mif\u001b[0m\u001b[1;33m(\u001b[0m\u001b[0mdataset\u001b[0m\u001b[1;33m.\u001b[0m\u001b[0miloc\u001b[0m\u001b[1;33m[\u001b[0m\u001b[0mi\u001b[0m \u001b[1;33m-\u001b[0m \u001b[1;36m1\u001b[0m\u001b[1;33m,\u001b[0m\u001b[0mj\u001b[0m\u001b[1;33m]\u001b[0m \u001b[1;33m<\u001b[0m \u001b[0mat_i\u001b[0m \u001b[1;32mand\u001b[0m \u001b[0mline_add\u001b[0m \u001b[1;33m==\u001b[0m \u001b[1;32mTrue\u001b[0m\u001b[1;33m)\u001b[0m\u001b[1;33m:\u001b[0m\u001b[1;33m\u001b[0m\u001b[1;33m\u001b[0m\u001b[0m\n\u001b[0;32m     13\u001b[0m                 \u001b[1;31m#dataset.iloc[i,j] = dataset[\"Departure Time\"][i]\u001b[0m\u001b[1;33m\u001b[0m\u001b[1;33m\u001b[0m\u001b[1;33m\u001b[0m\u001b[0m\n\u001b[1;32m---> 14\u001b[1;33m                 \u001b[0mlines_free\u001b[0m\u001b[1;33m.\u001b[0m\u001b[0mappend\u001b[0m\u001b[1;33m[\u001b[0m\u001b[0mj\u001b[0m\u001b[1;33m]\u001b[0m\u001b[1;33m\u001b[0m\u001b[1;33m\u001b[0m\u001b[0m\n\u001b[0m\u001b[0;32m     15\u001b[0m                 \u001b[0mline_add\u001b[0m \u001b[1;33m=\u001b[0m \u001b[1;32mFalse\u001b[0m\u001b[1;33m\u001b[0m\u001b[1;33m\u001b[0m\u001b[0m\n\u001b[0;32m     16\u001b[0m             \u001b[1;32melse\u001b[0m\u001b[1;33m:\u001b[0m\u001b[1;33m\u001b[0m\u001b[1;33m\u001b[0m\u001b[0m\n",
      "\u001b[1;31mTypeError\u001b[0m: 'builtin_function_or_method' object is not subscriptable"
     ]
    }
   ],
   "source": [
    "LinesFilled2(len(res_dataset),1,res_dataset)"
   ]
  },
  {
   "cell_type": "code",
   "execution_count": 19,
   "metadata": {},
   "outputs": [],
   "source": [
    "lines = []\n",
    "for i in range(4,len(res_dataset.columns)):\n",
    "    tim = 0\n",
    "    arri = 0\n",
    "    for j in range(0,len(res_dataset)):\n",
    "        if (res_dataset.iloc[j,i] == 0):\n",
    "            continue\n",
    "        elif(res_dataset.iloc[j,i] != arri):\n",
    "            tim = tim + (res_dataset.iloc[j,i] - res_dataset[\"Arrival Time\"][j])\n",
    "            arri = res_dataset.iloc[j,i]\n",
    "    lines.append(tim)"
   ]
  },
  {
   "cell_type": "raw",
   "metadata": {},
   "source": [
    "res_dataset"
   ]
  },
  {
   "cell_type": "code",
   "execution_count": 20,
   "metadata": {
    "collapsed": true
   },
   "outputs": [
    {
     "data": {
      "image/png": "[encoded data removed]",
      "text/plain": [
       "<Figure size 432x288 with 1 Axes>"
      ]
     },
     "metadata": {
      "needs_background": "light"
     },
     "output_type": "display_data"
    }
   ],
   "source": [
    "fig = plt.figure()\n",
    "ax = fig.add_axes([0,0,1,1])\n",
    "li = [i  for i in range(1, len(res_dataset.columns) - 3)]\n",
    "line = [i/43200 * 100 for i in lines]\n",
    "ax.bar(li,line)\n",
    "ax.set_ylabel(\"%age of Efficiency\")\n",
    "ax.set_xlabel(\"Line Number\")\n",
    "plt.show()"
   ]
  },
  {
   "cell_type": "code",
   "execution_count": 24,
   "metadata": {
    "collapsed": true
   },
   "outputs": [
    {
     "data": {
      "image/png": "[encoded data removed]",
      "text/plain": [
       "<Figure size 432x288 with 1 Axes>"
      ]
     },
     "metadata": {
      "needs_background": "light"
     },
     "output_type": "display_data"
    }
   ],
   "source": [
    "fig = plt.figure()\n",
    "ax = fig.add_axes([0,0,1,1])\n",
    "li = [i  for i in range(1, len(res_dataset.columns) - 3)]\n",
    "line = [i for i in lines]\n",
    "ax.plot(line,li)\n",
    "ax.set_ylabel(\"Line Number\")\n",
    "ax.set_xlabel(\"Time\")\n",
    "plt.show()"
   ]
  },
  {
   "cell_type": "code",
   "execution_count": 22,
   "metadata": {
    "collapsed": true
   },
   "outputs": [
    {
     "data": {
      "text/html": [
       "<div>\n",
       "<style scoped>\n",
       "    .dataframe tbody tr th:only-of-type {\n",
       "        vertical-align: middle;\n",
       "    }\n",
       "\n",
       "    .dataframe tbody tr th {\n",
       "        vertical-align: top;\n",
       "    }\n",
       "\n",
       "    .dataframe thead th {\n",
       "        text-align: right;\n",
       "    }\n",
       "</style>\n",
       "<table border=\"1\" class=\"dataframe\">\n",
       "  <thead>\n",
       "    <tr style=\"text-align: right;\">\n",
       "      <th></th>\n",
       "      <th>Inter Time</th>\n",
       "      <th>Arrival Time</th>\n",
       "      <th>Service Time</th>\n",
       "      <th>Departure Time</th>\n",
       "      <th>Lines Filled</th>\n",
       "      <th>Lines Filled0</th>\n",
       "      <th>Lines Filled1</th>\n",
       "      <th>Lines Filled2</th>\n",
       "      <th>Lines Filled3</th>\n",
       "      <th>Lines Filled4</th>\n",
       "      <th>...</th>\n",
       "      <th>Lines Filled25</th>\n",
       "      <th>Lines Filled26</th>\n",
       "      <th>Lines Filled27</th>\n",
       "      <th>Lines Filled28</th>\n",
       "      <th>Lines Filled29</th>\n",
       "      <th>Lines Filled30</th>\n",
       "      <th>Lines Filled31</th>\n",
       "      <th>Lines Filled32</th>\n",
       "      <th>Lines Filled33</th>\n",
       "      <th>Lines Filled34</th>\n",
       "    </tr>\n",
       "  </thead>\n",
       "  <tbody>\n",
       "    <tr>\n",
       "      <td>0</td>\n",
       "      <td>4.286118</td>\n",
       "      <td>4.286118</td>\n",
       "      <td>349.885649</td>\n",
       "      <td>354.171768</td>\n",
       "      <td>354.171768</td>\n",
       "      <td>0.000000</td>\n",
       "      <td>0.000000</td>\n",
       "      <td>0.000000</td>\n",
       "      <td>0.000000</td>\n",
       "      <td>0.000000</td>\n",
       "      <td>...</td>\n",
       "      <td>0.000000</td>\n",
       "      <td>0.00000</td>\n",
       "      <td>0.000000</td>\n",
       "      <td>0.000000</td>\n",
       "      <td>0.000000</td>\n",
       "      <td>0.000000</td>\n",
       "      <td>0.000000</td>\n",
       "      <td>0.000000</td>\n",
       "      <td>0.000000</td>\n",
       "      <td>0.000000</td>\n",
       "    </tr>\n",
       "    <tr>\n",
       "      <td>1</td>\n",
       "      <td>5.803705</td>\n",
       "      <td>10.089824</td>\n",
       "      <td>53.948060</td>\n",
       "      <td>64.037883</td>\n",
       "      <td>354.171768</td>\n",
       "      <td>64.000000</td>\n",
       "      <td>0.000000</td>\n",
       "      <td>0.000000</td>\n",
       "      <td>0.000000</td>\n",
       "      <td>0.000000</td>\n",
       "      <td>...</td>\n",
       "      <td>0.000000</td>\n",
       "      <td>0.00000</td>\n",
       "      <td>0.000000</td>\n",
       "      <td>0.000000</td>\n",
       "      <td>0.000000</td>\n",
       "      <td>0.000000</td>\n",
       "      <td>0.000000</td>\n",
       "      <td>0.000000</td>\n",
       "      <td>0.000000</td>\n",
       "      <td>0.000000</td>\n",
       "    </tr>\n",
       "    <tr>\n",
       "      <td>2</td>\n",
       "      <td>14.424291</td>\n",
       "      <td>24.514114</td>\n",
       "      <td>345.847014</td>\n",
       "      <td>370.361128</td>\n",
       "      <td>354.171768</td>\n",
       "      <td>64.000000</td>\n",
       "      <td>370.000000</td>\n",
       "      <td>0.000000</td>\n",
       "      <td>0.000000</td>\n",
       "      <td>0.000000</td>\n",
       "      <td>...</td>\n",
       "      <td>0.000000</td>\n",
       "      <td>0.00000</td>\n",
       "      <td>0.000000</td>\n",
       "      <td>0.000000</td>\n",
       "      <td>0.000000</td>\n",
       "      <td>0.000000</td>\n",
       "      <td>0.000000</td>\n",
       "      <td>0.000000</td>\n",
       "      <td>0.000000</td>\n",
       "      <td>0.000000</td>\n",
       "    </tr>\n",
       "    <tr>\n",
       "      <td>3</td>\n",
       "      <td>11.752157</td>\n",
       "      <td>36.266271</td>\n",
       "      <td>50.527505</td>\n",
       "      <td>86.793776</td>\n",
       "      <td>354.171768</td>\n",
       "      <td>64.000000</td>\n",
       "      <td>370.000000</td>\n",
       "      <td>86.000000</td>\n",
       "      <td>0.000000</td>\n",
       "      <td>0.000000</td>\n",
       "      <td>...</td>\n",
       "      <td>0.000000</td>\n",
       "      <td>0.00000</td>\n",
       "      <td>0.000000</td>\n",
       "      <td>0.000000</td>\n",
       "      <td>0.000000</td>\n",
       "      <td>0.000000</td>\n",
       "      <td>0.000000</td>\n",
       "      <td>0.000000</td>\n",
       "      <td>0.000000</td>\n",
       "      <td>0.000000</td>\n",
       "    </tr>\n",
       "    <tr>\n",
       "      <td>4</td>\n",
       "      <td>17.387596</td>\n",
       "      <td>53.653867</td>\n",
       "      <td>277.249830</td>\n",
       "      <td>330.903698</td>\n",
       "      <td>354.171768</td>\n",
       "      <td>64.000000</td>\n",
       "      <td>370.000000</td>\n",
       "      <td>86.000000</td>\n",
       "      <td>330.000000</td>\n",
       "      <td>0.000000</td>\n",
       "      <td>...</td>\n",
       "      <td>0.000000</td>\n",
       "      <td>0.00000</td>\n",
       "      <td>0.000000</td>\n",
       "      <td>0.000000</td>\n",
       "      <td>0.000000</td>\n",
       "      <td>0.000000</td>\n",
       "      <td>0.000000</td>\n",
       "      <td>0.000000</td>\n",
       "      <td>0.000000</td>\n",
       "      <td>0.000000</td>\n",
       "    </tr>\n",
       "    <tr>\n",
       "      <td>...</td>\n",
       "      <td>...</td>\n",
       "      <td>...</td>\n",
       "      <td>...</td>\n",
       "      <td>...</td>\n",
       "      <td>...</td>\n",
       "      <td>...</td>\n",
       "      <td>...</td>\n",
       "      <td>...</td>\n",
       "      <td>...</td>\n",
       "      <td>...</td>\n",
       "      <td>...</td>\n",
       "      <td>...</td>\n",
       "      <td>...</td>\n",
       "      <td>...</td>\n",
       "      <td>...</td>\n",
       "      <td>...</td>\n",
       "      <td>...</td>\n",
       "      <td>...</td>\n",
       "      <td>...</td>\n",
       "      <td>...</td>\n",
       "      <td>...</td>\n",
       "    </tr>\n",
       "    <tr>\n",
       "      <td>3937</td>\n",
       "      <td>1.837836</td>\n",
       "      <td>43149.996684</td>\n",
       "      <td>132.267717</td>\n",
       "      <td>43282.264401</td>\n",
       "      <td>43403.803130</td>\n",
       "      <td>43342.395885</td>\n",
       "      <td>43245.822402</td>\n",
       "      <td>43450.126897</td>\n",
       "      <td>43292.528214</td>\n",
       "      <td>43476.641348</td>\n",
       "      <td>...</td>\n",
       "      <td>42900.245259</td>\n",
       "      <td>40208.10479</td>\n",
       "      <td>40324.725527</td>\n",
       "      <td>40078.101836</td>\n",
       "      <td>40342.347787</td>\n",
       "      <td>40218.497275</td>\n",
       "      <td>40440.753184</td>\n",
       "      <td>40425.634458</td>\n",
       "      <td>40237.950559</td>\n",
       "      <td>40075.836534</td>\n",
       "    </tr>\n",
       "    <tr>\n",
       "      <td>3938</td>\n",
       "      <td>19.900073</td>\n",
       "      <td>43169.896757</td>\n",
       "      <td>311.830572</td>\n",
       "      <td>43481.727329</td>\n",
       "      <td>43403.803130</td>\n",
       "      <td>43342.395885</td>\n",
       "      <td>43245.822402</td>\n",
       "      <td>43450.126897</td>\n",
       "      <td>43292.528214</td>\n",
       "      <td>43476.641348</td>\n",
       "      <td>...</td>\n",
       "      <td>42900.245259</td>\n",
       "      <td>40208.10479</td>\n",
       "      <td>40324.725527</td>\n",
       "      <td>40078.101836</td>\n",
       "      <td>40342.347787</td>\n",
       "      <td>40218.497275</td>\n",
       "      <td>40440.753184</td>\n",
       "      <td>40425.634458</td>\n",
       "      <td>40237.950559</td>\n",
       "      <td>40075.836534</td>\n",
       "    </tr>\n",
       "    <tr>\n",
       "      <td>3939</td>\n",
       "      <td>19.336913</td>\n",
       "      <td>43189.233670</td>\n",
       "      <td>271.517755</td>\n",
       "      <td>43460.751425</td>\n",
       "      <td>43403.803130</td>\n",
       "      <td>43342.395885</td>\n",
       "      <td>43245.822402</td>\n",
       "      <td>43450.126897</td>\n",
       "      <td>43292.528214</td>\n",
       "      <td>43476.641348</td>\n",
       "      <td>...</td>\n",
       "      <td>42900.245259</td>\n",
       "      <td>40208.10479</td>\n",
       "      <td>40324.725527</td>\n",
       "      <td>40078.101836</td>\n",
       "      <td>40342.347787</td>\n",
       "      <td>40218.497275</td>\n",
       "      <td>40440.753184</td>\n",
       "      <td>40425.634458</td>\n",
       "      <td>40237.950559</td>\n",
       "      <td>40075.836534</td>\n",
       "    </tr>\n",
       "    <tr>\n",
       "      <td>3940</td>\n",
       "      <td>0.348600</td>\n",
       "      <td>43189.582270</td>\n",
       "      <td>245.248345</td>\n",
       "      <td>43434.830615</td>\n",
       "      <td>43403.803130</td>\n",
       "      <td>43342.395885</td>\n",
       "      <td>43245.822402</td>\n",
       "      <td>43450.126897</td>\n",
       "      <td>43292.528214</td>\n",
       "      <td>43476.641348</td>\n",
       "      <td>...</td>\n",
       "      <td>42900.245259</td>\n",
       "      <td>40208.10479</td>\n",
       "      <td>40324.725527</td>\n",
       "      <td>40078.101836</td>\n",
       "      <td>40342.347787</td>\n",
       "      <td>40218.497275</td>\n",
       "      <td>40440.753184</td>\n",
       "      <td>40425.634458</td>\n",
       "      <td>40237.950559</td>\n",
       "      <td>40075.836534</td>\n",
       "    </tr>\n",
       "    <tr>\n",
       "      <td>3941</td>\n",
       "      <td>15.090270</td>\n",
       "      <td>43204.672540</td>\n",
       "      <td>150.215549</td>\n",
       "      <td>43354.888088</td>\n",
       "      <td>43403.803130</td>\n",
       "      <td>43342.395885</td>\n",
       "      <td>43245.822402</td>\n",
       "      <td>43450.126897</td>\n",
       "      <td>43292.528214</td>\n",
       "      <td>43476.641348</td>\n",
       "      <td>...</td>\n",
       "      <td>42900.245259</td>\n",
       "      <td>40208.10479</td>\n",
       "      <td>40324.725527</td>\n",
       "      <td>40078.101836</td>\n",
       "      <td>40342.347787</td>\n",
       "      <td>40218.497275</td>\n",
       "      <td>40440.753184</td>\n",
       "      <td>40425.634458</td>\n",
       "      <td>40237.950559</td>\n",
       "      <td>40075.836534</td>\n",
       "    </tr>\n",
       "  </tbody>\n",
       "</table>\n",
       "<p>3942 rows × 40 columns</p>\n",
       "</div>"
      ],
      "text/plain": [
       "      Inter Time  Arrival Time  Service Time  Departure Time  Lines Filled  \\\n",
       "0       4.286118      4.286118    349.885649      354.171768    354.171768   \n",
       "1       5.803705     10.089824     53.948060       64.037883    354.171768   \n",
       "2      14.424291     24.514114    345.847014      370.361128    354.171768   \n",
       "3      11.752157     36.266271     50.527505       86.793776    354.171768   \n",
       "4      17.387596     53.653867    277.249830      330.903698    354.171768   \n",
       "...          ...           ...           ...             ...           ...   \n",
       "3937    1.837836  43149.996684    132.267717    43282.264401  43403.803130   \n",
       "3938   19.900073  43169.896757    311.830572    43481.727329  43403.803130   \n",
       "3939   19.336913  43189.233670    271.517755    43460.751425  43403.803130   \n",
       "3940    0.348600  43189.582270    245.248345    43434.830615  43403.803130   \n",
       "3941   15.090270  43204.672540    150.215549    43354.888088  43403.803130   \n",
       "\n",
       "      Lines Filled0  Lines Filled1  Lines Filled2  Lines Filled3  \\\n",
       "0          0.000000       0.000000       0.000000       0.000000   \n",
       "1         64.000000       0.000000       0.000000       0.000000   \n",
       "2         64.000000     370.000000       0.000000       0.000000   \n",
       "3         64.000000     370.000000      86.000000       0.000000   \n",
       "4         64.000000     370.000000      86.000000     330.000000   \n",
       "...             ...            ...            ...            ...   \n",
       "3937   43342.395885   43245.822402   43450.126897   43292.528214   \n",
       "3938   43342.395885   43245.822402   43450.126897   43292.528214   \n",
       "3939   43342.395885   43245.822402   43450.126897   43292.528214   \n",
       "3940   43342.395885   43245.822402   43450.126897   43292.528214   \n",
       "3941   43342.395885   43245.822402   43450.126897   43292.528214   \n",
       "\n",
       "      Lines Filled4  ...  Lines Filled25  Lines Filled26  Lines Filled27  \\\n",
       "0          0.000000  ...        0.000000         0.00000        0.000000   \n",
       "1          0.000000  ...        0.000000         0.00000        0.000000   \n",
       "2          0.000000  ...        0.000000         0.00000        0.000000   \n",
       "3          0.000000  ...        0.000000         0.00000        0.000000   \n",
       "4          0.000000  ...        0.000000         0.00000        0.000000   \n",
       "...             ...  ...             ...             ...             ...   \n",
       "3937   43476.641348  ...    42900.245259     40208.10479    40324.725527   \n",
       "3938   43476.641348  ...    42900.245259     40208.10479    40324.725527   \n",
       "3939   43476.641348  ...    42900.245259     40208.10479    40324.725527   \n",
       "3940   43476.641348  ...    42900.245259     40208.10479    40324.725527   \n",
       "3941   43476.641348  ...    42900.245259     40208.10479    40324.725527   \n",
       "\n",
       "      Lines Filled28  Lines Filled29  Lines Filled30  Lines Filled31  \\\n",
       "0           0.000000        0.000000        0.000000        0.000000   \n",
       "1           0.000000        0.000000        0.000000        0.000000   \n",
       "2           0.000000        0.000000        0.000000        0.000000   \n",
       "3           0.000000        0.000000        0.000000        0.000000   \n",
       "4           0.000000        0.000000        0.000000        0.000000   \n",
       "...              ...             ...             ...             ...   \n",
       "3937    40078.101836    40342.347787    40218.497275    40440.753184   \n",
       "3938    40078.101836    40342.347787    40218.497275    40440.753184   \n",
       "3939    40078.101836    40342.347787    40218.497275    40440.753184   \n",
       "3940    40078.101836    40342.347787    40218.497275    40440.753184   \n",
       "3941    40078.101836    40342.347787    40218.497275    40440.753184   \n",
       "\n",
       "      Lines Filled32  Lines Filled33  Lines Filled34  \n",
       "0           0.000000        0.000000        0.000000  \n",
       "1           0.000000        0.000000        0.000000  \n",
       "2           0.000000        0.000000        0.000000  \n",
       "3           0.000000        0.000000        0.000000  \n",
       "4           0.000000        0.000000        0.000000  \n",
       "...              ...             ...             ...  \n",
       "3937    40425.634458    40237.950559    40075.836534  \n",
       "3938    40425.634458    40237.950559    40075.836534  \n",
       "3939    40425.634458    40237.950559    40075.836534  \n",
       "3940    40425.634458    40237.950559    40075.836534  \n",
       "3941    40425.634458    40237.950559    40075.836534  \n",
       "\n",
       "[3942 rows x 40 columns]"
      ]
     },
     "execution_count": 22,
     "metadata": {},
     "output_type": "execute_result"
    }
   ],
   "source": [
    "res_dataset"
   ]
  },
  {
   "cell_type": "code",
   "execution_count": 38,
   "metadata": {},
   "outputs": [],
   "source": [
    "def pl():\n",
    "    for i in range(4,len(res_dataset.columns)):\n",
    "        arri = 0\n",
    "        for j in range(0,len(res_dataset)):\n",
    "            if (res_dataset.iloc[j,i] > 0): \n",
    "                tim = res_dataset[\"Arrival Time\"][i]\n",
    "                lines.append(tim)\n",
    "                break"
   ]
  },
  {
   "cell_type": "code",
   "execution_count": 39,
   "metadata": {},
   "outputs": [],
   "source": [
    "lines = []\n",
    "pl()"
   ]
  },
  {
   "cell_type": "code",
   "execution_count": 40,
   "metadata": {
    "collapsed": true
   },
   "outputs": [
    {
     "data": {
      "text/plain": [
       "[53.65386735657276,\n",
       " 53.659872865892424,\n",
       " 59.76597635560528,\n",
       " 65.34685185426395,\n",
       " 84.29231512449958,\n",
       " 97.30276317176694,\n",
       " 102.42786599878042,\n",
       " 110.06785509285923,\n",
       " 110.83592590233518,\n",
       " 122.54679762083565,\n",
       " 144.93448127315202,\n",
       " 168.50610394958204,\n",
       " 183.35771518624722,\n",
       " 185.96458604913346,\n",
       " 186.55562429829394,\n",
       " 203.97323095743138,\n",
       " 210.12506966485708,\n",
       " 221.1586040591602,\n",
       " 237.32524304381087,\n",
       " 250.13744072197855,\n",
       " 251.57187298203277,\n",
       " 263.0857712834677,\n",
       " 276.1231777875344,\n",
       " 282.5118937722299,\n",
       " 287.92795092389446,\n",
       " 299.4937003161982,\n",
       " 308.47261657168934,\n",
       " 308.98908877616253,\n",
       " 323.9858439249749,\n",
       " 332.9083844545924,\n",
       " 333.5624238354604,\n",
       " 339.99359195112265,\n",
       " 344.22804177304357,\n",
       " 345.0335523492784,\n",
       " 363.9550654254361,\n",
       " 377.97343796798896]"
      ]
     },
     "execution_count": 40,
     "metadata": {},
     "output_type": "execute_result"
    }
   ],
   "source": [
    "lines"
   ]
  },
  {
   "cell_type": "code",
   "execution_count": 41,
   "metadata": {
    "collapsed": true
   },
   "outputs": [
    {
     "data": {
      "image/png": "[encoded data removed]",
      "text/plain": [
       "<Figure size 432x288 with 1 Axes>"
      ]
     },
     "metadata": {
      "needs_background": "light"
     },
     "output_type": "display_data"
    }
   ],
   "source": [
    "fig = plt.figure()\n",
    "ax = fig.add_axes([0,0,1,1])\n",
    "li = [i  for i in range(1, len(res_dataset.columns) - 3)]\n",
    "line = [i for i in lines]\n",
    "ax.plot(line,li)\n",
    "ax.set_ylabel(\"Line Number\")\n",
    "ax.set_xlabel(\"Time\")\n",
    "plt.show()"
   ]
  },
  {
   "cell_type": "code",
   "execution_count": 125,
   "metadata": {},
   "outputs": [],
   "source": [
    "res_dataset = pd.DataFrame()\n",
    "res_dataset[\"Inter Time\"] = 0.0\n",
    "res_dataset[\"Arrival Time\"] = 0.0\n",
    "res_dataset[\"Service Time\"] = 0.0\n",
    "res_dataset[\"Departure Time\"] = 0.0\n",
    "res_dataset[\"Lines Filled\"] = 0"
   ]
  },
  {
   "cell_type": "code",
   "execution_count": 126,
   "metadata": {},
   "outputs": [],
   "source": [
    "res_dataset[\"Inter Time\"],res_dataset[\"Service Time\"] = Interarrival()"
   ]
  },
  {
   "cell_type": "code",
   "execution_count": 127,
   "metadata": {},
   "outputs": [],
   "source": [
    "Arrival_Time(len(res_dataset),res_dataset)\n",
    "DepartureTime(len(res_dataset),res_dataset)"
   ]
  },
  {
   "cell_type": "code",
   "execution_count": 128,
   "metadata": {},
   "outputs": [],
   "source": [
    "def LinesFilled2(si,n,dataset):\n",
    "    c = n - 1\n",
    "    dataset[\"Lines Filled\"][0] = dataset[\"Departure Time\"][0]\n",
    "    \n",
    "    for i in range(1,si):\n",
    "        lines_free = []\n",
    "        line_add = True\n",
    "        col = len(dataset.columns)\n",
    "        at_i = dataset[\"Arrival Time\"][i]\n",
    "        for j in range(4,col):\n",
    "            #print(dataset.iloc[i - 1,j])\n",
    "            if(dataset.iloc[i - 1,j] <= at_i):\n",
    "                #dataset.iloc[i,j] = dataset[\"Departure Time\"][i]\n",
    "                lines_free.append(j)\n",
    "                line_add = False\n",
    "            else:\n",
    "                dataset.iloc[i,j] = dataset.iloc[i-1,j]\n",
    "        if (line_add == True):\n",
    "            dataset[\"Lines Filled\" + str(c)] = 0\n",
    "            dataset[\"Lines Filled\" + str(c)][i] = dataset[\"Departure Time\"][i]\n",
    "            c = c + 1\n",
    "        else :\n",
    "            no = random.randint(0,len(lines_free))\n",
    "            #print(len(lines_free))\n",
    "            dataset.iloc[i,lines_free[no]] = dataset[\"Departure Time\"][i]"
   ]
  },
  {
   "cell_type": "code",
   "execution_count": 129,
   "metadata": {},
   "outputs": [
    {
     "name": "stderr",
     "output_type": "stream",
     "text": [
      "C:\\Users\\HP\\Anaconda3\\lib\\site-packages\\ipykernel_launcher.py:20: SettingWithCopyWarning: \n",
      "A value is trying to be set on a copy of a slice from a DataFrame\n",
      "\n",
      "See the caveats in the documentation: http://pandas.pydata.org/pandas-docs/stable/user_guide/indexing.html#returning-a-view-versus-a-copy\n"
     ]
    },
    {
     "ename": "IndexError",
     "evalue": "list index out of range",
     "output_type": "error",
     "traceback": [
      "\u001b[1;31m---------------------------------------------------------------------------\u001b[0m",
      "\u001b[1;31mIndexError\u001b[0m                                Traceback (most recent call last)",
      "\u001b[1;32m<ipython-input-129-d9d0165aaaae>\u001b[0m in \u001b[0;36m<module>\u001b[1;34m\u001b[0m\n\u001b[1;32m----> 1\u001b[1;33m \u001b[0mLinesFilled2\u001b[0m\u001b[1;33m(\u001b[0m\u001b[0mlen\u001b[0m\u001b[1;33m(\u001b[0m\u001b[0mres_dataset\u001b[0m\u001b[1;33m)\u001b[0m\u001b[1;33m,\u001b[0m\u001b[1;36m1\u001b[0m\u001b[1;33m,\u001b[0m\u001b[0mres_dataset\u001b[0m\u001b[1;33m)\u001b[0m\u001b[1;33m\u001b[0m\u001b[1;33m\u001b[0m\u001b[0m\n\u001b[0m",
      "\u001b[1;32m<ipython-input-128-4e1b8abd08fd>\u001b[0m in \u001b[0;36mLinesFilled2\u001b[1;34m(si, n, dataset)\u001b[0m\n\u001b[0;32m     23\u001b[0m             \u001b[0mno\u001b[0m \u001b[1;33m=\u001b[0m \u001b[0mrandom\u001b[0m\u001b[1;33m.\u001b[0m\u001b[0mrandint\u001b[0m\u001b[1;33m(\u001b[0m\u001b[1;36m0\u001b[0m\u001b[1;33m,\u001b[0m\u001b[0mlen\u001b[0m\u001b[1;33m(\u001b[0m\u001b[0mlines_free\u001b[0m\u001b[1;33m)\u001b[0m\u001b[1;33m)\u001b[0m\u001b[1;33m\u001b[0m\u001b[1;33m\u001b[0m\u001b[0m\n\u001b[0;32m     24\u001b[0m             \u001b[1;31m#print(len(lines_free))\u001b[0m\u001b[1;33m\u001b[0m\u001b[1;33m\u001b[0m\u001b[1;33m\u001b[0m\u001b[0m\n\u001b[1;32m---> 25\u001b[1;33m             \u001b[0mdataset\u001b[0m\u001b[1;33m.\u001b[0m\u001b[0miloc\u001b[0m\u001b[1;33m[\u001b[0m\u001b[0mi\u001b[0m\u001b[1;33m,\u001b[0m\u001b[0mlines_free\u001b[0m\u001b[1;33m[\u001b[0m\u001b[0mno\u001b[0m\u001b[1;33m]\u001b[0m\u001b[1;33m]\u001b[0m \u001b[1;33m=\u001b[0m \u001b[0mdataset\u001b[0m\u001b[1;33m[\u001b[0m\u001b[1;34m\"Departure Time\"\u001b[0m\u001b[1;33m]\u001b[0m\u001b[1;33m[\u001b[0m\u001b[0mi\u001b[0m\u001b[1;33m]\u001b[0m\u001b[1;33m\u001b[0m\u001b[1;33m\u001b[0m\u001b[0m\n\u001b[0m",
      "\u001b[1;31mIndexError\u001b[0m: list index out of range"
     ]
    }
   ],
   "source": [
    "LinesFilled2(len(res_dataset),1,res_dataset)"
   ]
  },
  {
   "cell_type": "code",
   "execution_count": 121,
   "metadata": {},
   "outputs": [],
   "source": [
    "lines = []\n",
    "for i in range(4,len(res_dataset.columns)):\n",
    "    tim = 0\n",
    "    arri = 0\n",
    "    for j in range(0,len(res_dataset)):\n",
    "        if (res_dataset.iloc[j,i] == 0):\n",
    "            continue\n",
    "        elif(res_dataset.iloc[j,i] != arri):\n",
    "            tim = tim + (res_dataset.iloc[j,i] - res_dataset[\"Arrival Time\"][j])\n",
    "            arri = res_dataset.iloc[j,i]\n",
    "    lines.append(tim)"
   ]
  },
  {
   "cell_type": "code",
   "execution_count": 122,
   "metadata": {},
   "outputs": [
    {
     "data": {
      "image/png": "[encoded data removed]",
      "text/plain": [
       "<Figure size 432x288 with 1 Axes>"
      ]
     },
     "metadata": {
      "needs_background": "light"
     },
     "output_type": "display_data"
    }
   ],
   "source": [
    "fig = plt.figure()\n",
    "ax = fig.add_axes([0,0,1,1])\n",
    "li = [i  for i in range(1, len(res_dataset.columns) - 3)]\n",
    "line = [i/43200 * 100 for i in lines]\n",
    "ax.bar(li,line)\n",
    "ax.set_ylabel(\"%age of Efficiency\")\n",
    "ax.set_xlabel(\"Line Number\")\n",
    "plt.show()"
   ]
  },
  {
   "cell_type": "code",
   "execution_count": 90,
   "metadata": {
    "collapsed": true
   },
   "outputs": [
    {
     "data": {
      "text/plain": [
       "[42254.38822442624,\n",
       " 42009.788017398416,\n",
       " 41763.99552150788,\n",
       " 41565.22785562718,\n",
       " 41353.481754659624,\n",
       " 40989.658986377275,\n",
       " 41120.096998816145,\n",
       " 40599.36710994498,\n",
       " 40857.44812491087,\n",
       " 39577.88713143639,\n",
       " 39976.87838454229,\n",
       " 39591.29230089471,\n",
       " 38796.80883456247,\n",
       " 38467.213012709966,\n",
       " 37546.78952197991,\n",
       " 36134.36274897637,\n",
       " 34858.85211658445,\n",
       " 34214.14195191601,\n",
       " 32808.55913984199,\n",
       " 30574.8826982154,\n",
       " 28727.57760969822,\n",
       " 26052.95550177629,\n",
       " 23918.15441352543,\n",
       " 20512.842401161884,\n",
       " 18341.960266614547,\n",
       " 11904.130986521997,\n",
       " 11216.181582368503,\n",
       " 6520.299627736205,\n",
       " 4200.171670725918,\n",
       " 3589.5344063679713,\n",
       " 2279.108468199731,\n",
       " 1697.3284131787386,\n",
       " 974.2562666580816,\n",
       " 226.25223489617383,\n",
       " 407.12158899775386,\n",
       " 119.12923069898534,\n",
       " 194.75992151452374,\n",
       " 34.75271866944968]"
      ]
     },
     "execution_count": 90,
     "metadata": {},
     "output_type": "execute_result"
    }
   ],
   "source": [
    "lines"
   ]
  },
  {
   "cell_type": "code",
   "execution_count": 98,
   "metadata": {},
   "outputs": [
    {
     "data": {
      "text/plain": [
       "1"
      ]
     },
     "execution_count": 98,
     "metadata": {},
     "output_type": "execute_result"
    }
   ],
   "source": [
    "random.randint(0,2)"
   ]
  },
  {
   "cell_type": "code",
   "execution_count": null,
   "metadata": {},
   "outputs": [],
   "source": []
  }
 ],
 "metadata": {
  "kernelspec": {
   "display_name": "Python 3",
   "language": "python",
   "name": "python3"
  },
  "language_info": {
   "codemirror_mode": {
    "name": "ipython",
    "version": 3
   },
   "file_extension": ".py",
   "mimetype": "text/x-python",
   "name": "python",
   "nbconvert_exporter": "python",
   "pygments_lexer": "ipython3",
   "version": "3.7.4"
  },
  "varInspector": {
   "cols": {
    "lenName": 16,
    "lenType": 16,
    "lenVar": 40
   },
   "kernels_config": {
    "python": {
     "delete_cmd_postfix": "",
     "delete_cmd_prefix": "del ",
     "library": "var_list.py",
     "varRefreshCmd": "print(var_dic_list())"
    },
    "r": {
     "delete_cmd_postfix": ") ",
     "delete_cmd_prefix": "rm(",
     "library": "var_list.r",
     "varRefreshCmd": "cat(var_dic_list()) "
    }
   },
   "types_to_exclude": [
    "module",
    "function",
    "builtin_function_or_method",
    "instance",
    "_Feature"
   ],
   "window_display": false
  }
 },
 "nbformat": 4,
 "nbformat_minor": 2
}
